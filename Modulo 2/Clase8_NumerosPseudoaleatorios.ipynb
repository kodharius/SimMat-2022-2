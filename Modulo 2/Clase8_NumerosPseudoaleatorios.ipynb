{
 "cells": [
  {
   "cell_type": "markdown",
   "metadata": {},
   "source": [
    "# Generación de números pseudoaleatorios\n",
    "\n",
    "<img style=\"float: center; margin: 0px 0px 15px 15px;\" src=\"https://upload.wikimedia.org/wikipedia/commons/6/6a/Dice.jpg\" width=\"300px\" height=\"100px\" />\n",
    "\n",
    "**Referencias de la clase:**\n",
    "- https://webs.um.es/mpulido/miwiki/lib/exe/fetch.php?id=amio&cache=cache&media=wiki:simt1b.pdf\n",
    "- http://www.lmpt.univ-tours.fr/~nicolis/Licence_NEW/08-09/boxmuller.pdf\n",
    "\n",
    "**Referencias de las librerías que usaremos:**\n",
    "- http://www.numpy.org/\n",
    "- https://matplotlib.org/"
   ]
  },
  {
   "cell_type": "markdown",
   "metadata": {},
   "source": [
    "___\n",
    "## 0. Introducción\n",
    "\n",
    "- Los números aleatorios son la base esencial de la simulación de escenarios.\n",
    "- Toda la aleatoriedad involucrada en el modelo se obtiene a partir de un generador de números aleatorios que produce una sucesión de valores que supuestamente son realizaciones de una secuencia de variables aleatorias independientes e idénticamente distribuidas."
   ]
  },
  {
   "cell_type": "markdown",
   "metadata": {},
   "source": [
    "### 0.1 ¿Qué es un número pseudoaleatorio?\n",
    "\n",
    "<img style=\"float: right; margin: 0px 0px 15px 15px;\" src=\"http://www.publicdomainpictures.net/pictures/50000/velka/random-numbers.jpg\" width=\"300px\" height=\"100px\" />\n",
    "\n",
    "- Es un número generado en un proceso que parece producir números al azar, pero no lo hace realmente.\n",
    "- Las secuencias de números pseudoaleatorios no muestran ningún patrón o regularidad aparente desde un punto de vista estadístico, a pesar de haber sido generadas por un algoritmo completamente determinista, en el que las mismas condiciones iniciales producen siempre el mismo resultado.\n",
    "- Por lo general, el interés no radica en generar un solo número aleatorio, sino muchos, reunidos en lo que se conoce como secuencia aleatoria.\n",
    "\n",
    "### 0.2 ¿En qué se aplican?\n",
    "\n",
    "- Modelado y simulación por computadora, estadística, diseño experimental. Normalmente, la entropía (aletoriedad) de los números que se generan actualmente basta para estas aplicaciones.\n",
    "- Criptografía. Este campo sigue estando en constante investigación, y por tanto la generación de números aleatorios también.\n",
    "- Asimismo, también destacan su uso en el llamado método de Montecarlo, con múltiples utilidades.\n",
    "- Entre otros...\n",
    "\n",
    "### 0.3 ¿Cuándo un generador de números pseudoaleatorios es bueno?\n",
    "\n",
    "- La sucesión de valores que proporcione deberı́a asemejarse a una sucesión de realizaciones independientes de una variable aleatoria $\\mathcal{U}(0, 1)$.\n",
    "- Los resultados deben ser reproducibles, en el sentido de que comenzando con la misma semilla inicial, debe ser capaz de reproducir la misma sucesión. Esto para poder probar diferentes alrternativas bajo las mismas condiciones y/o poder depurar fallos en el modelo.\n",
    "- La sucesión de valores generados debe tener un periodo no repetitivo tan largo como sea posible.\n",
    "\n",
    "### 0.4 Funcionamiento básico\n",
    "\n",
    "- Elegir una semilla inicial (condición inicial) $x_0$.\n",
    "- Generar una sucesión de valores $x_n$ mediante la relación de recurrencia $x_n=T(x_{n-1})$.\n",
    "\n",
    "> Generalmente, esta secuencia es de números pseudoaleatorios $\\mathcal{U}(0,1)$.\n",
    "\n",
    "- Finalmente, se genera un número pseudoaleatorio con distribución deseada, definido a través de alguna relación $u_n=g(x_n)$.\n",
    "- Estas sucesiones son periódicas. Es decir, en algún momento ocurrirá que $x_j = x_i$ para algún $j > i$."
   ]
  },
  {
   "cell_type": "markdown",
   "metadata": {},
   "source": [
    "___\n",
    "## 1. Métodos congruenciales para generación de números pseudoaleatorios $\\mathcal{U}(0,1)$\n",
    "\n",
    "- Introducidos por Lehmer en 1951.\n",
    "- Son los principales generadores de números pseudoaleatorios utilizados hoy en día.\n",
    "\n",
    "### 1.1 Descripción general del método\n",
    "\n",
    "- Comienza con un valor inicial (semilla) $x_0$, y los valores subsiguientes, $x_n$ para $n \\geq 1$, se obtienen recursivamente con la siguiente fórmula:\n",
    "$$x_n = (ax_{n−1} + b) \\mod m.$$\n",
    "- En la fórmula de arriba $\\text{mod}$ representa la operación residuo.\n",
    "- Los enteros positivos $m$, $a$ y $b$ en la fórmula se denominan:\n",
    " - $0<m$ es el módulo,\n",
    " - $0<a<m$ es el multiplicador, y\n",
    " - $0\\leq b <m$ es el incremento.\n",
    " - La semilla debe satisfacer $0\\leq x_0<m$.\n",
    "- Si $b = 0$, el generador se denomina multiplicativo.\n",
    "- En caso contrario se llama mixto."
   ]
  },
  {
   "cell_type": "markdown",
   "metadata": {},
   "source": [
    "**Ejemplo** \n",
    "\n",
    "+ Ingresar en `Equipo Trabajo en Clase i` y resolverlo en grupos.\n",
    "+ Equipos 1-5 Ejercicio 1.\n",
    "+ Equipos 6-9 Ejercicio 2\n",
    "\n",
    "Para tomar intuición con este método, probar a mano con los siguientes conjuntos de parámetros:\n",
    "1. $m=9$, $a=5$, $b=1$, $x_0=1$.\n",
    "2. $m=16$, $a=5$, $b=3$, $x_0=7$."
   ]
  },
  {
   "cell_type": "code",
   "execution_count": 7,
   "metadata": {},
   "outputs": [
    {
     "data": {
      "text/plain": [
       "[1, 6, 4, 3, 7, 0]"
      ]
     },
     "execution_count": 7,
     "metadata": {},
     "output_type": "execute_result"
    }
   ],
   "source": [
    "def cong_ejemplo(a, b, m, n, x0):\n",
    "    x = [x0]\n",
    "    for i in range(n):\n",
    "        x.append((a * x[-1] + b) % m)\n",
    "    return x\n",
    "\n",
    "m1 = 9\n",
    "a1 = 5 \n",
    "b1 = 1\n",
    "x01 = 1\n",
    "\n",
    "cong_ejemplo(a1, b1, m1, 5, x01)"
   ]
  },
  {
   "cell_type": "code",
   "execution_count": 24,
   "metadata": {},
   "outputs": [
    {
     "data": {
      "text/plain": [
       "array([0.4375, 0.375 , 0.0625, 0.5   , 0.6875, 0.625 , 0.3125, 0.75  ,\n",
       "       0.9375, 0.875 , 0.5625, 0.    , 0.1875, 0.125 , 0.8125, 0.25  ])"
      ]
     },
     "execution_count": 24,
     "metadata": {},
     "output_type": "execute_result"
    }
   ],
   "source": [
    "m2 = 16\n",
    "a2 = 5\n",
    "b2 = 3\n",
    "x02 = 7\n",
    "\n",
    "np.array(cong_ejemplo(a2, b2, m2, 15, x02))/m2"
   ]
  },
  {
   "cell_type": "markdown",
   "metadata": {},
   "source": [
    "1. Son listas de números que se repiten.\n",
    "2. Como máximo se repiten cada $m$ (módulo). Hay que tomar $m$ grande.\n",
    "3. Son números enteros entre $0$ y $m$. Para que estén entre $0$ y $1$ hay que dividirlos entre $m$."
   ]
  },
  {
   "cell_type": "markdown",
   "metadata": {},
   "source": [
    "En efecto, un generador congruencial queda completamente determinado por los parámetros $m$, $a$, $b$ y $x_0$.\n",
    "\n",
    "**Proposición.** Los valores generados por un método congruencial verifican:\n",
    "\n",
    "$$x_n = \\left(a^n x_0+b\\frac{a^n-1}{a-1}\\right) \\mod m.$$\n",
    "\n",
    "<font color=blue> Verificar esto en el tablero. </font>"
   ]
  },
  {
   "cell_type": "markdown",
   "metadata": {},
   "source": [
    "### 1.2 Programemos este método\n",
    "\n",
    "De acuerdo a lo descrito arriba, quisiéramos programar una función que reciba:\n",
    "- la semilla $x_0$,\n",
    "- el multiplicador $a$,\n",
    "- el incremento $b$,\n",
    "- el módulo $m$, y\n",
    "- la cantidad de elementos de la secuencia pseudoaleatoria requeridos $n$,\n",
    "\n",
    "y que retorne la secuencia pseudoaleatoria de longitud $n$."
   ]
  },
  {
   "cell_type": "code",
   "execution_count": 23,
   "metadata": {},
   "outputs": [],
   "source": [
    "# Importar la librería numpy... útil para el manejo de datos n-dimensionales (vectores)\n",
    "import numpy as np"
   ]
  },
  {
   "cell_type": "code",
   "execution_count": 25,
   "metadata": {},
   "outputs": [],
   "source": [
    "#### Escribir la función acá\n",
    "def cong_method(x0,a,b,m,n):\n",
    "    #x0: Semilla (condición inicial)\n",
    "    #a: multiplicador (parámetro)\n",
    "    #b: incremento (parámetro)\n",
    "    #m: módulo (parámetro)\n",
    "    #n: longitud de la secuencia\n",
    "    x = [x0]\n",
    "    for i in range(n):\n",
    "        xn = (a*x[-1]+b)%m\n",
    "        x.append(xn)\n",
    "    \n",
    "    return np.array(x)[1:]/m"
   ]
  },
  {
   "cell_type": "markdown",
   "metadata": {},
   "source": [
    "**Ejemplo**\n",
    "\n",
    "Probar con los conjuntos de parámetros anteriores:\n",
    "1. $m=9$, $a=5$, $b=1$, $x_0=1$.\n",
    "2. $m=16$, $a=5$, $b=3$, $x_0=7$.\n",
    "\n",
    "Además,\n",
    "- Para el conjunto de parámetros 1, probar con las semillas $x_0=5,8$.\n",
    "- Para el conjunto de parámetros 2, probar con diferentes semillas."
   ]
  },
  {
   "cell_type": "code",
   "execution_count": 26,
   "metadata": {},
   "outputs": [
    {
     "data": {
      "text/plain": [
       "array([0.66666667, 0.44444444, 0.33333333, 0.77777778, 0.        ,\n",
       "       0.11111111, 0.66666667, 0.44444444, 0.33333333, 0.77777778,\n",
       "       0.        , 0.11111111, 0.66666667, 0.44444444, 0.33333333,\n",
       "       0.77777778, 0.        , 0.11111111, 0.66666667, 0.44444444])"
      ]
     },
     "execution_count": 26,
     "metadata": {},
     "output_type": "execute_result"
    }
   ],
   "source": [
    "#### Probar acá\n",
    "m, a, b, x0, n = 9, 5, 1, 1, 20\n",
    "cong_method(x0,a,b,m,n)"
   ]
  },
  {
   "cell_type": "code",
   "execution_count": 27,
   "metadata": {},
   "outputs": [
    {
     "data": {
      "text/plain": [
       "array([0.375 , 0.0625, 0.5   , 0.6875, 0.625 , 0.3125, 0.75  , 0.9375,\n",
       "       0.875 , 0.5625, 0.    , 0.1875, 0.125 , 0.8125, 0.25  , 0.4375,\n",
       "       0.375 , 0.0625, 0.5   , 0.6875])"
      ]
     },
     "execution_count": 27,
     "metadata": {},
     "output_type": "execute_result"
    }
   ],
   "source": [
    "m, a, b, x0, n = 16, 5, 3, 7, 20\n",
    "cong_method(x0,a,b,m,n)"
   ]
  },
  {
   "cell_type": "code",
   "execution_count": 28,
   "metadata": {},
   "outputs": [
    {
     "data": {
      "text/plain": [
       "array([0.55555556, 0.88888889, 0.55555556, 0.88888889, 0.55555556,\n",
       "       0.88888889, 0.55555556, 0.88888889, 0.55555556, 0.88888889,\n",
       "       0.55555556, 0.88888889, 0.55555556, 0.88888889, 0.55555556,\n",
       "       0.88888889, 0.55555556, 0.88888889, 0.55555556, 0.88888889])"
      ]
     },
     "execution_count": 28,
     "metadata": {},
     "output_type": "execute_result"
    }
   ],
   "source": [
    "m, a, b, x0, n = 9, 5, 1, 8, 20\n",
    "cong_method(x0,a,b,m,n)"
   ]
  },
  {
   "cell_type": "code",
   "execution_count": 6,
   "metadata": {},
   "outputs": [
    {
     "data": {
      "text/plain": [
       "array([0.    , 0.1875, 0.125 , 0.8125, 0.25  , 0.4375, 0.375 , 0.0625,\n",
       "       0.5   , 0.6875, 0.625 , 0.3125, 0.75  , 0.9375, 0.875 , 0.5625,\n",
       "       0.    , 0.1875, 0.125 , 0.8125])"
      ]
     },
     "execution_count": 6,
     "metadata": {},
     "output_type": "execute_result"
    }
   ],
   "source": [
    "m, a, b, x0, n = 16, 5, 3, 9, 20\n",
    "cong_method(x0,a,b,m,n)"
   ]
  },
  {
   "cell_type": "markdown",
   "metadata": {},
   "source": [
    "**Ejemplo**\n",
    "\n",
    "Los ciclos *for* o *while* son un atentado contra la computación eficiente. Programar de forma vectorizada usando la fórmula:\n",
    "$$x_n = \\left(a^n x_0+b\\frac{a^n-1}{a-1}\\right) \\mod m.$$"
   ]
  },
  {
   "cell_type": "code",
<<<<<<< refs/remotes/odjaramilloz/main
   "execution_count": 32,
=======
   "execution_count": 13,
>>>>>>> Actualización archivos clase 1
   "metadata": {},
   "outputs": [
    {
     "data": {
      "text/plain": [
       "array([1.125, 2.25 , 4.375])"
      ]
     },
<<<<<<< refs/remotes/odjaramilloz/main
     "execution_count": 32,
=======
     "execution_count": 13,
>>>>>>> Actualización archivos clase 1
     "metadata": {},
     "output_type": "execute_result"
    }
   ],
   "source": [
    "n = np.array([1, 2, 3])\n",
    "(2 ** n * 5 + n / 8) % 9"
   ]
  },
  {
   "cell_type": "code",
<<<<<<< refs/remotes/odjaramilloz/main
   "execution_count": 65,
=======
   "execution_count": null,
   "metadata": {},
   "outputs": [],
   "source": []
  },
  {
   "cell_type": "code",
   "execution_count": 14,
>>>>>>> Actualización archivos clase 1
   "metadata": {},
   "outputs": [],
   "source": [
    "#### Escribir la función acá\n",
    "def cong_method2(x0,a,b,m,n):\n",
    "    #x0: Semilla (condición inicial)\n",
    "    #a: multiplicador (parámetro)\n",
    "    #b: incremento (parámetro)\n",
    "    #m: módulo (parámetro)\n",
    "    #n: longitud de la secuencia\n",
    "    N = np.linspace(0,n,n+1)\n",
    "    xn = ((a**N)*x0 + b*((a**N)-1)/(a-1))%m\n",
    "    return np.array(xn)[1:]/m"
   ]
  },
  {
   "cell_type": "code",
<<<<<<< refs/remotes/odjaramilloz/main
   "execution_count": 47,
   "metadata": {},
   "outputs": [
    {
     "name": "stderr",
     "output_type": "stream",
     "text": [
      "/var/folders/f_/yfk7pckx1pvcrgw8dsns53yr0000gn/T/ipykernel_68200/1680681990.py:11: RuntimeWarning: overflow encountered in power\n",
      "  xn = ((a**N)*x0 + b*((a**N)-1)/(a-1))%m\n",
      "/var/folders/f_/yfk7pckx1pvcrgw8dsns53yr0000gn/T/ipykernel_68200/1680681990.py:11: RuntimeWarning: overflow encountered in multiply\n",
      "  xn = ((a**N)*x0 + b*((a**N)-1)/(a-1))%m\n"
     ]
    },
    {
     "name": "stdout",
     "output_type": "stream",
     "text": [
      "161 µs ± 5.28 µs per loop (mean ± std. dev. of 7 runs, 10,000 loops each)\n"
=======
   "execution_count": 16,
   "metadata": {},
   "outputs": [
    {
     "name": "stdout",
     "output_type": "stream",
     "text": [
      "60.3 µs ± 2.24 µs per loop (mean ± std. dev. of 7 runs, 10,000 loops each)\n"
>>>>>>> Actualización archivos clase 1
     ]
    }
   ],
   "source": [
    "#### Probar acá\n",
<<<<<<< refs/remotes/odjaramilloz/main
    "m, a, b, x0, n = 16, 5, 3, 9, 2000\n",
=======
    "m, a, b, x0, n = 16, 5, 3, 9, 20\n",
>>>>>>> Actualización archivos clase 1
    "%timeit cong_method2(x0,a,b,m,n)"
   ]
  },
  {
   "cell_type": "code",
<<<<<<< refs/remotes/odjaramilloz/main
   "execution_count": 48,
=======
   "execution_count": 17,
>>>>>>> Actualización archivos clase 1
   "metadata": {},
   "outputs": [
    {
     "name": "stdout",
     "output_type": "stream",
     "text": [
<<<<<<< refs/remotes/odjaramilloz/main
      "387 µs ± 11.7 µs per loop (mean ± std. dev. of 7 runs, 1,000 loops each)\n"
=======
      "60.6 µs ± 5.45 µs per loop (mean ± std. dev. of 7 runs, 10,000 loops each)\n"
>>>>>>> Actualización archivos clase 1
     ]
    }
   ],
   "source": [
<<<<<<< refs/remotes/odjaramilloz/main
    "m, a, b, x0, n = 16, 5, 3, 9, 2000\n",
    "%timeit cong_method(x0,a,b,m,n)"
=======
    "## esto solo es lo que se tarda en tiempo en hacer las operaciones\n",
    "m, a, b, x0, n = 16, 5, 3, 9, 20\n",
    "%timeit cong_method2(x0,a,b,m,n)"
>>>>>>> Actualización archivos clase 1
   ]
  },
  {
   "cell_type": "markdown",
   "metadata": {},
   "source": [
    "Entonces vemos que la calidad de nuestro generador congruencial depende fuertemente de la elección de los parámetros, pues quisiéramos que los periodos sean lo más grandes posible ($m$).\n",
    "\n",
    "Cuando el periodo de un generador congruencial coincide con el módulo $m$, lo llamaremos *generador de ciclo completo*. El periodo de este tipo de generadores es independiente de la semilla que utilicemos.\n",
    "\n",
    "El siguiente Teorema nos da condiciones para crear generadores de ciclo completo:"
   ]
  },
  {
   "cell_type": "markdown",
   "metadata": {},
   "source": [
    "**Teorema.** Un generador congruencial tiene periodo completo si y sólo si se cumplen las siguientes condiciones:\n",
    "1. $m$ y $b$ son primos entre sı́.\n",
    "2. Si $q$ es un número primo que divide a $m$, entonces $q$ divide a $a − 1$.\n",
    "3. Si $4$ divide a m, entonces 4 divide a $a − 1$."
   ]
  },
  {
   "cell_type": "markdown",
   "metadata": {},
   "source": [
    "**Ejercicio**\n",
    "\n",
    "Comprobar el teorema en el conjunto de parámetros 2."
   ]
  },
  {
   "cell_type": "markdown",
   "metadata": {},
   "source": [
    "### 1.3 Comentarios adicionales sobre el generador congruencial\n",
    "\n",
    "Hasta ahora solo nos basamos en aspectos teóricos para ver si un generador es bueno. También hay aspectos computacionales...\n",
    "\n",
    "En ese sentido los generadores multiplicativos son más eficientes que los mixtos porque se ahorran la operación de suma. Sin embargo, por el **Teorema** <font color=red>¿qué pasa con los generadores multiplicativos?</font>\n",
    "\n",
    "De igual forma, una elección computacionalmente adecuada es $m=2^k$ (se elige m grande para tener periodos grandes). Con esta elección, y $k\\geq2$, el generador tendrá periodo completo si y sólo si $b$ es impar y $1 = a \\mod 4$.\n",
    "\n",
    "Si se combina lo anterior (generador multiplicativo con $m=2^k$), obtenemos que el periodo máximo que se puede obtener es una cuarta parte de $m$, $\\frac{2^k}{4}=2^{k-2}$ y se alcanza únicamente para $x_0$ impar y, $3 = a \\mod 8$ o $5 = a \\mod 8$.\n",
    "\n",
    "Un generador multiplicativo muy utilizado, conocido como *RANDU*, tomaba $m = 2^{31}$ y $a = 2^{16} + 3$. Sin embargo, se ha demostrado que tiene propiedades estadı́sticas bastante malas.\n",
    "\n",
    "Los generadores multiplicativos más famosos utilizados por IBM tomaban $m = 2^{31} − 1$ y $a = 7^5, 630360016$.\n",
    "\n",
    "Pueden encontrar más información en este [enlace](https://en.wikipedia.org/wiki/Linear_congruential_generator).\n",
    "\n",
    "- Se pueden hacer combinaciones de generadores y otros generadores más complicados..."
   ]
  },
  {
   "cell_type": "markdown",
   "metadata": {},
   "source": [
    "**Ejemplo**\n",
    "\n",
    "Tomar los parámetros $m=2^{31} − 1$, $a=1103515245$ y $b=12345$, y generar una secuencia pseudoaleatoria uniforme estándar de $n=10^4$ elementos.\n",
    "\n",
    "Luego, dibujar el histograma (diagrama de frecuencias). ¿Corresponde lo obtenido con lo que se imaginaban?"
   ]
  },
  {
   "cell_type": "code",
<<<<<<< refs/remotes/odjaramilloz/main
   "execution_count": 49,
=======
   "execution_count": 18,
>>>>>>> Actualización archivos clase 1
   "metadata": {},
   "outputs": [],
   "source": [
    "#### Resolver acá\n",
    "m = 2**31-1\n",
    "a = 1103515245\n",
    "b = 12345\n",
    "n = int(1e4)\n",
    "x0 = 100"
   ]
  },
  {
   "cell_type": "code",
<<<<<<< refs/remotes/odjaramilloz/main
   "execution_count": 68,
=======
   "execution_count": 19,
>>>>>>> Actualización archivos clase 1
   "metadata": {},
   "outputs": [
    {
     "data": {
      "text/plain": [
       "(100000,)"
      ]
     },
<<<<<<< refs/remotes/odjaramilloz/main
     "execution_count": 68,
=======
     "execution_count": 19,
>>>>>>> Actualización archivos clase 1
     "metadata": {},
     "output_type": "execute_result"
    }
   ],
   "source": [
    "x = cong_method(x0,a,b,m,n * 10)\n",
    "x.shape"
   ]
  },
  {
   "cell_type": "code",
<<<<<<< refs/remotes/odjaramilloz/main
   "execution_count": 69,
=======
   "execution_count": 20,
>>>>>>> Actualización archivos clase 1
   "metadata": {
    "scrolled": false
   },
   "outputs": [
    {
     "data": {
<<<<<<< refs/remotes/odjaramilloz/main
      "image/png": "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\n",
=======
      "image/png": "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\n",
>>>>>>> Actualización archivos clase 1
      "text/plain": [
       "<Figure size 432x288 with 1 Axes>"
      ]
     },
     "metadata": {
      "needs_background": "light"
     },
     "output_type": "display_data"
    }
   ],
   "source": [
    "import matplotlib.pyplot as plt\n",
    "\n",
    "plt.hist(x,bins=50,density=False)\n",
    "plt.show()"
   ]
  },
  {
   "cell_type": "markdown",
   "metadata": {},
   "source": [
    "**Ejemplo**\n",
    "\n",
    "¿Cómo hacer para obtener secuencias pseudoaleatorias en $\\mathcal{U}(a,b)$?\n",
    "\n",
    "Realizar un código para esto. Hacer una prueba con los parámetros anteriormente tomados y dibujar el histograma para contrastar."
   ]
  },
  {
   "cell_type": "code",
<<<<<<< refs/remotes/odjaramilloz/main
   "execution_count": 70,
=======
   "execution_count": 21,
>>>>>>> Actualización archivos clase 1
   "metadata": {},
   "outputs": [],
   "source": [
    "#### Resolver acá\n",
    "A = 3\n",
    "B = 4\n",
    "\n",
    "# Parámetros\n",
    "m = 2**31-1\n",
    "a = 1103515245\n",
    "b = 12345\n",
    "n = int(1e4)\n",
    "x0 = 100\n",
    "\n",
    "x = (B-A)*cong_method(x0,a,b,m,n) + A"
   ]
  },
  {
   "cell_type": "code",
<<<<<<< refs/remotes/odjaramilloz/main
   "execution_count": 71,
=======
   "execution_count": 22,
>>>>>>> Actualización archivos clase 1
   "metadata": {},
   "outputs": [
    {
     "data": {
      "image/png": "iVBORw0KGgoAAAANSUhEUgAAAXcAAAD4CAYAAAAXUaZHAAAAOXRFWHRTb2Z0d2FyZQBNYXRwbG90bGliIHZlcnNpb24zLjUuMSwgaHR0cHM6Ly9tYXRwbG90bGliLm9yZy/YYfK9AAAACXBIWXMAAAsTAAALEwEAmpwYAAAPR0lEQVR4nO3dcaxed13H8fdn7Rgo4jZ325S22P1RlI7I0GtdXEyAEVcGoTNhpijQkCaNcSpGE9aSqEHTZPxDiMGFNEioQayNgKtTwVqcxCArtzIG3Zhr2Oxu2qx3AxQ0mWn5+sc9mGe39/ae9j7Pvb2/+34lzTnnd37nOd9f7nM/9zy/5zxPU1VIktpy1VIXIEkaPsNdkhpkuEtSgwx3SWqQ4S5JDVq91AUA3HDDDbVp06alLkOSlpXjx48/W1Vjs+27IsJ906ZNTExMLHUZkrSsJPmPufY5LSNJDTLcJalBhrskNchwl6QGGe6S1CDDXZIaZLhLUoMMd0lqkOEuSQ26Ij6hupQ27fnbJTnvU/e+eUnOK2ll8Mpdkhq04q/ctXgW8irJVzq6kl2Jz23DXcvCQqfP/OPQvisxYJeS0zKS1CCv3KUR8mpSS6VXuCd5CvgucB44V1XjSa4H/hLYBDwF/HJVfbvrvxfY1fX/rar63NArH7BUd7xIGi5/l4fnUq7cX19Vzw5s7wGOVtW9SfZ02/ck2QLsAG4CXg78Y5JXVtX5oVUtLSIDR8vRQubctwMHuvUDwJ0D7Qer6vmqehI4CWxdwHkkSZeob7gX8A9JjifZ3bWtraozAN1yTde+Hnh64NjJru0FkuxOMpFkYmpq6vKqlyTNqu+0zK1VdTrJGuBIkm9cpG9maasLGqr2A/sBxsfHL9jfOt9o0yh566h6XblX1elueRb4DNPTLM8kWQfQLc923SeBjQOHbwBOD6tgSdL85r1yT/LDwFVV9d1u/ReBPwQOAzuBe7vl/d0hh4FPJvkg02+obgaOjaB2SSPiK8vlr8+0zFrgM0l+0P+TVfXZJF8GDiXZBZwC7gKoqhNJDgGPAueAu71TZrh8yb0yeJeOFmLecK+qbwKvmaX9OeC2OY7ZB+xbcHW64hg40vLg1w9IUoMMd0lqkN8tswI5tSK9UIu/E4a7VoQWf3mli3FaRpIaZLhLUoMMd0lqkOEuSQ0y3CWpQYa7JDXIcJekBhnuktQgP8Qkaaj8wNiVwSt3SWqQ4S5JDTLcJalBhrskNchwl6QGGe6S1CDDXZIaZLhLUoMMd0lqkOEuSQ0y3CWpQYa7JDXIcJekBhnuktQgw12SGmS4S1KDDHdJapDhLkkN6h3uSVYl+UqSB7rt65McSfJEt7xuoO/eJCeTPJ7k9lEULkma26Vcub8HeGxgew9wtKo2A0e7bZJsAXYANwHbgPuSrBpOuZKkPnqFe5INwJuBjw40bwcOdOsHgDsH2g9W1fNV9SRwEtg6lGolSb30vXL/EPBe4PsDbWur6gxAt1zTta8Hnh7oN9m1vUCS3UkmkkxMTU1dat2SpIuYN9yTvAU4W1XHez5mZmmrCxqq9lfVeFWNj42N9XxoSVIfq3v0uRV4a5I7gBcDL0vyCeCZJOuq6kySdcDZrv8ksHHg+A3A6WEWLUm6uHmv3Ktqb1VtqKpNTL9R+vmqegdwGNjZddsJ3N+tHwZ2JLkmyY3AZuDY0CuXJM2pz5X7XO4FDiXZBZwC7gKoqhNJDgGPAueAu6vq/IIrlST1dknhXlUPAg92688Bt83Rbx+wb4G1SZIuk59QlaQGGe6S1CDDXZIaZLhLUoMMd0lqkOEuSQ0y3CWpQYa7JDXIcJekBhnuktQgw12SGmS4S1KDDHdJapDhLkkNMtwlqUGGuyQ1yHCXpAYZ7pLUIMNdkhpkuEtSgwx3SWqQ4S5JDTLcJalBhrskNchwl6QGGe6S1CDDXZIaZLhLUoMMd0lqkOEuSQ2aN9yTvDjJsSRfTXIiyfu79uuTHEnyRLe8buCYvUlOJnk8ye2jHIAk6UJ9rtyfB95QVa8Bbga2JbkF2AMcrarNwNFumyRbgB3ATcA24L4kq0ZQuyRpDvOGe037Xrd5dfevgO3Aga79AHBnt74dOFhVz1fVk8BJYOswi5YkXVyvOfckq5I8DJwFjlTVQ8DaqjoD0C3XdN3XA08PHD7Ztc18zN1JJpJMTE1NLWAIkqSZeoV7VZ2vqpuBDcDWJK++SPfM9hCzPOb+qhqvqvGxsbFexUqS+rmku2Wq6jvAg0zPpT+TZB1AtzzbdZsENg4ctgE4vdBCJUn99blbZizJtd36S4A3At8ADgM7u247gfu79cPAjiTXJLkR2AwcG3LdkqSLWN2jzzrgQHfHy1XAoap6IMm/AoeS7AJOAXcBVNWJJIeAR4FzwN1VdX405UuSZjNvuFfVI8BrZ2l/DrhtjmP2AfsWXJ0k6bL4CVVJapDhLkkNMtwlqUGGuyQ1yHCXpAYZ7pLUIMNdkhpkuEtSgwx3SWqQ4S5JDTLcJalBhrskNchwl6QGGe6S1CDDXZIaZLhLUoMMd0lqkOEuSQ0y3CWpQYa7JDXIcJekBhnuktQgw12SGmS4S1KDDHdJapDhLkkNMtwlqUGGuyQ1yHCXpAYZ7pLUIMNdkho0b7gn2Zjkn5I8luREkvd07dcnOZLkiW553cAxe5OcTPJ4kttHOQBJ0oX6XLmfA363ql4F3ALcnWQLsAc4WlWbgaPdNt2+HcBNwDbgviSrRlG8JGl284Z7VZ2pqn/r1r8LPAasB7YDB7puB4A7u/XtwMGqer6qngROAluHXLck6SIuac49ySbgtcBDwNqqOgPTfwCANV239cDTA4dNdm0zH2t3kokkE1NTU5dRuiRpLr3DPclLgU8Bv11V/3WxrrO01QUNVfuraryqxsfGxvqWIUnqoVe4J7ma6WD/86r6dNf8TJJ13f51wNmufRLYOHD4BuD0cMqVJPXR526ZAH8KPFZVHxzYdRjY2a3vBO4faN+R5JokNwKbgWPDK1mSNJ/VPfrcCrwT+FqSh7u29wH3AoeS7AJOAXcBVNWJJIeAR5m+0+buqjo/7MIlSXObN9yr6l+YfR4d4LY5jtkH7FtAXZKkBfATqpLUIMNdkhpkuEtSgwx3SWqQ4S5JDTLcJalBhrskNchwl6QGGe6S1CDDXZIaZLhLUoMMd0lqkOEuSQ0y3CWpQYa7JDXIcJekBhnuktQgw12SGmS4S1KDDHdJapDhLkkNMtwlqUGGuyQ1yHCXpAYZ7pLUIMNdkhpkuEtSgwx3SWqQ4S5JDTLcJalB84Z7ko8lOZvk6wNt1yc5kuSJbnndwL69SU4meTzJ7aMqXJI0tz5X7h8Hts1o2wMcrarNwNFumyRbgB3ATd0x9yVZNbRqJUm9zBvuVfUF4FszmrcDB7r1A8CdA+0Hq+r5qnoSOAlsHU6pkqS+LnfOfW1VnQHolmu69vXA0wP9Jru2CyTZnWQiycTU1NRlliFJms2w31DNLG01W8eq2l9V41U1PjY2NuQyJGllu9xwfybJOoBuebZrnwQ2DvTbAJy+/PIkSZfjcsP9MLCzW98J3D/QviPJNUluBDYDxxZWoiTpUq2er0OSvwBeB9yQZBL4A+Be4FCSXcAp4C6AqjqR5BDwKHAOuLuqzo+odknSHOYN96p6+xy7bpuj/z5g30KKkiQtjJ9QlaQGGe6S1CDDXZIaZLhLUoMMd0lqkOEuSQ0y3CWpQYa7JDXIcJekBhnuktQgw12SGmS4S1KDDHdJapDhLkkNMtwlqUGGuyQ1yHCXpAYZ7pLUIMNdkhpkuEtSgwx3SWqQ4S5JDTLcJalBhrskNchwl6QGGe6S1CDDXZIaZLhLUoMMd0lqkOEuSQ0y3CWpQSML9yTbkjye5GSSPaM6jyTpQiMJ9ySrgD8B3gRsAd6eZMsoziVJutCorty3Aier6ptV9b/AQWD7iM4lSZph9Ygedz3w9MD2JPBzgx2S7AZ2d5vfS/L4As53A/DsAo5fblbaeMExrxQrbsz5wILG/ONz7RhVuGeWtnrBRtV+YP9QTpZMVNX4MB5rOVhp4wXHvFI45uEZ1bTMJLBxYHsDcHpE55IkzTCqcP8ysDnJjUleBOwADo/oXJKkGUYyLVNV55L8BvA5YBXwsao6MYpzdYYyvbOMrLTxgmNeKRzzkKSq5u8lSVpW/ISqJDXIcJekBi2LcE/y4iTHknw1yYkk75+lT5L8cfd1B48k+emlqHVYeo75V7uxPpLki0lesxS1DkufMQ/0/dkk55O8bTFrHLa+Y07yuiQPd33+ebHrHKaez+0fTfI3A33evRS1DlOSVUm+kuSBWfYNP7+q6or/x/R98y/t1q8GHgJumdHnDuDvu763AA8tdd2LMOafB67r1t+0Esbc7VsFfB74O+BtS133IvycrwUeBV7Rba9Z6roXYczvAz7QrY8B3wJetNS1L3DcvwN8Enhgln1Dz69lceVe077XbV7d/Zv5TvB24M+6vl8Crk2ybjHrHKY+Y66qL1bVt7vNLzH9eYJlq+fPGeA3gU8BZxertlHpOeZfAT5dVae6Y5b1uHuOuYAfSRLgpUyH+7nFq3K4kmwA3gx8dI4uQ8+vZRHu8P8vaR5m+hf6SFU9NKPLbF95sH6RyhuJHmMetIvpv/zL2nxjTrIe+CXgI0tQ3kj0+Dm/ErguyYNJjid516IXOWQ9xvxh4FVMf/jxa8B7qur7i1vlUH0IeC8w1xiGnl/LJtyr6nxV3cz01enWJK+e0WXerzxYbnqMGYAkr2c63O9ZxPJGoseYPwTcU1XnF7u2Uekx5tXAzzB95Xc78HtJXrm4VQ5XjzHfDjwMvBy4GfhwkpctZo3DkuQtwNmqOn6xbrO0LSi/lk24/0BVfQd4ENg2Y1ezX3lwkTGT5KeYfqm3vaqeW9zKRuciYx4HDiZ5CngbcF+SOxeztlGZ57n92ar676p6FvgCsKzfPP+Bi4z53UxPRVVVnQSeBH5ycasbmluBt3bP2YPAG5J8YkafoefXsgj3JGNJru3WXwK8EfjGjG6HgXd17zrfAvxnVZ1Z3EqHp8+Yk7wC+DTwzqr690Uvcsj6jLmqbqyqTVW1Cfgr4Ner6q8XudSh6fncvh/4hSSrk/wQ09+w+tiiFjpEPcd8Crit67MW+Angm4tY5tBU1d6q2tA9Z3cAn6+qd8zoNvT8GtW3Qg7bOuBApv8TkKuAQ1X1QJJfA6iqjzB958QdwEngf5j+y7+c9Rnz7wM/xvTVK8C5Wt7fqNdnzK2Zd8xV9ViSzwKPMD1n+9Gq+vrSlbxgfX7OfwR8PMnXmJ6yuKd71dKMUeeXXz8gSQ1aFtMykqRLY7hLUoMMd0lqkOEuSQ0y3CWpQYa7JDXIcJekBv0f85o80EhYZDwAAAAASUVORK5CYII=\n",
      "text/plain": [
       "<Figure size 432x288 with 1 Axes>"
      ]
     },
     "metadata": {
      "needs_background": "light"
     },
     "output_type": "display_data"
    }
   ],
   "source": [
    "plt.hist(x,bins=20,density=False)\n",
    "plt.show()"
   ]
  },
  {
   "cell_type": "markdown",
   "metadata": {},
   "source": [
    "**Ejemplo**\n",
    "\n",
    "Escribir una función que devuelva secuencias de números aleatorios $\\mathcal{U}(0,1)$ usando los parámetros dados anteriormente y que use como semilla `time.time()`."
   ]
  },
  {
   "cell_type": "code",
<<<<<<< refs/remotes/odjaramilloz/main
   "execution_count": 109,
=======
   "execution_count": 34,
>>>>>>> Actualización archivos clase 1
   "metadata": {},
   "outputs": [
    {
     "data": {
      "text/plain": [
<<<<<<< refs/remotes/odjaramilloz/main
       "1663641495.793055"
      ]
     },
     "execution_count": 109,
=======
       "1663641790.9701793"
      ]
     },
     "execution_count": 34,
>>>>>>> Actualización archivos clase 1
     "metadata": {},
     "output_type": "execute_result"
    }
   ],
   "source": [
    "#### Resolver acá\n",
    "import time\n",
    "# time.time?\n",
    "time.time()"
   ]
  },
  {
   "cell_type": "code",
<<<<<<< refs/remotes/odjaramilloz/main
   "execution_count": 121,
=======
   "execution_count": 35,
>>>>>>> Actualización archivos clase 1
   "metadata": {},
   "outputs": [
    {
     "data": {
<<<<<<< refs/remotes/odjaramilloz/main
      "image/png": "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\n",
=======
      "image/png": "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\n",
>>>>>>> Actualización archivos clase 1
      "text/plain": [
       "<Figure size 432x288 with 1 Axes>"
      ]
     },
     "metadata": {
      "needs_background": "light"
     },
     "output_type": "display_data"
    }
   ],
   "source": [
    "#Definir parámetros del generador\n",
    "# Parámetros\n",
    "m = 2**31-1\n",
    "a = 1103515245\n",
    "b = 12345\n",
    "n = int(1e4)\n",
    "x0 = time.time()\n",
    "\n",
    "x = cong_method(x0,a,b,m,n)\n",
    "\n",
    "plt.hist(x,bins=20,density=False)\n",
    "plt.show()"
   ]
  },
  {
   "cell_type": "markdown",
   "metadata": {},
   "source": [
    "**Ejercicio**\n",
    "\n",
    "Escribir una función que devuelva secuencias de números aleatorios $\\mathcal{U}(A,B)$ usando los parámetros dados anteriormente y que use como semilla `time.time()`."
   ]
  },
  {
   "cell_type": "code",
<<<<<<< refs/remotes/odjaramilloz/main
   "execution_count": 133,
=======
   "execution_count": 36,
>>>>>>> Actualización archivos clase 1
   "metadata": {},
   "outputs": [
    {
     "data": {
      "image/png": "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\n",
      "text/plain": [
       "<Figure size 432x288 with 1 Axes>"
      ]
     },
     "metadata": {
      "needs_background": "light"
     },
     "output_type": "display_data"
    }
   ],
   "source": [
    "# Parámetros del generador\n",
    "A = 3\n",
    "B = 4\n",
    "A = 3\n",
    "B = 4\n",
    "\n",
    "# Parámetros\n",
    "m = 2**31-1\n",
    "a = 1103515245\n",
    "b = 12345\n",
    "n = int(1e4)\n",
    "x0 = time.time()\n",
    "\n",
    "x = (B-A)*cong_method(x0,a,b,m,n) + A\n",
    "\n",
    "plt.hist(x,bins=20,density=False)\n",
    "plt.show()"
   ]
  },
  {
   "cell_type": "code",
   "execution_count": 170,
   "metadata": {},
   "outputs": [
    {
     "data": {
      "text/plain": [
       "0.44979323679295413"
      ]
     },
     "execution_count": 170,
     "metadata": {},
     "output_type": "execute_result"
    }
   ],
   "source": [
    "np.random.rand()"
   ]
  },
  {
   "cell_type": "markdown",
   "metadata": {},
   "source": [
    "___\n",
    "## 2. Método Box–Muller para generación de números pseudoaleatorios $\\mathcal{N}(0,1)$\n",
    "\n",
    "Teniendo dos secuencias de números pseudoaleatorios independientes e uniformemente distribuidos en el intervalo $\\left[0,1\\right]$ ($\\mathcal{U}(0,1)$) es posible generar dos secuencias  de números pseudoaleatorios independientes y normalmente distribuidos con media cero y varianza unitaria ($\\mathcal{N}(0,1)$).\n",
    "\n",
    "Este método se conoce como el método Box–Muller."
   ]
  },
  {
   "cell_type": "markdown",
   "metadata": {},
   "source": [
    "Supongamos que $U_1$ y $U_2$ son variables aleatorias independientes que están uniformemente distribuidas en el intervalo $\\left[0,1\\right]$. Sean entonces:\n",
    "\n",
    "$$X=R\\cos(\\theta)=\\sqrt{-2\\log(U_1)}\\cos(2\\pi U_2),$$\n",
    "\n",
    "y\n",
    "\n",
    "$$Y=R\\sin(\\theta)=\\sqrt{-2\\log(U_1)}\\sin(2\\pi U_2).$$\n",
    "\n",
    "Entonces, $X$ y $Y$ son variables aleatorias independientes con una distribución normal estándar ($\\mathcal{N}(0,1)$)."
   ]
  },
  {
   "cell_type": "markdown",
   "metadata": {},
   "source": [
    "La derivación de esto se basa en la transformación del sistema cartesiano al sistema polar.\n",
    "\n",
    "<font color=blue> Mostrar intuitivamente en el tablero. </font>"
   ]
  },
  {
   "cell_type": "markdown",
   "metadata": {},
   "source": [
    "**Ejemplo**\n",
    "\n",
    "Escribir una función que devuelva secuencias de números aleatorios $\\mathcal{N}(0,1)$.\n",
    "\n",
    "*Usar la función escrita anteriormente*"
   ]
  },
  {
   "cell_type": "code",
<<<<<<< refs/remotes/odjaramilloz/main
   "execution_count": 175,
=======
   "execution_count": 37,
>>>>>>> Actualización archivos clase 1
   "metadata": {},
   "outputs": [],
   "source": [
    "#### Resolver acá\n",
    "def box_muller(x0,a,b,m,n):\n",
    "    U1 = cong_method(x0,a,b,m,n)\n",
    "    U2 = cong_method(time.time(),a,b,m,n)\n",
    "    R = np.sqrt(-2*np.log(U1))\n",
    "    Theta = 2*np.pi*U2\n",
    "    X = R*np.cos(Theta)\n",
    "    Y = R*np.sin(Theta)\n",
    "    return Y    "
   ]
  },
  {
   "cell_type": "markdown",
   "metadata": {},
   "source": [
    "**Ejemplo**\n",
    "\n",
    "Generar una secuencia pseudoaleatoria normal estándar de $n=10^4$ elementos.\n",
    "\n",
    "Luego, dibujar el histograma (diagrama de frecuencias). ¿Corresponde lo obtenido con lo que se imaginaban?"
   ]
  },
  {
   "cell_type": "code",
<<<<<<< refs/remotes/odjaramilloz/main
   "execution_count": 176,
=======
   "execution_count": 38,
>>>>>>> Actualización archivos clase 1
   "metadata": {},
   "outputs": [],
   "source": [
    "#### Resolver acá\n",
    "# Parámetros\n",
    "m = 2**31-1\n",
    "a = 1103515245\n",
    "b = 12345\n",
    "n = int(1e4)\n",
    "x0 = time.time()\n",
    "\n",
    "x = box_muller(x0,a,b,m,n)"
   ]
  },
  {
   "cell_type": "code",
<<<<<<< refs/remotes/odjaramilloz/main
   "execution_count": 177,
=======
   "execution_count": 39,
>>>>>>> Actualización archivos clase 1
   "metadata": {},
   "outputs": [
    {
     "data": {
<<<<<<< refs/remotes/odjaramilloz/main
      "image/png": "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\n",
=======
      "image/png": "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\n",
>>>>>>> Actualización archivos clase 1
      "text/plain": [
       "<Figure size 432x288 with 1 Axes>"
      ]
     },
     "metadata": {
      "needs_background": "light"
     },
     "output_type": "display_data"
    }
   ],
   "source": [
    "plt.hist(x,bins=30,density=False)\n",
    "plt.show()"
   ]
  },
  {
   "cell_type": "code",
<<<<<<< refs/remotes/odjaramilloz/main
   "execution_count": 179,
=======
   "execution_count": 41,
>>>>>>> Actualización archivos clase 1
   "metadata": {},
   "outputs": [
    {
     "data": {
      "text/plain": [
<<<<<<< refs/remotes/odjaramilloz/main
       "(-0.008196340016670868, 1.0104833133038482)"
      ]
     },
     "execution_count": 179,
=======
       "(-0.009575322693336677, 0.998185382969758)"
      ]
     },
     "execution_count": 41,
>>>>>>> Actualización archivos clase 1
     "metadata": {},
     "output_type": "execute_result"
    }
   ],
   "source": [
    "x.mean(), x.std()"
   ]
  },
  {
   "cell_type": "markdown",
   "metadata": {},
   "source": [
    "**Ejemplo**\n",
    "\n",
    "¿Cómo hacer para obtener secuencias pseudoaleatorias en $\\mathcal{N}(\\mu,\\sigma)$?\n",
    "\n",
    "Realizar un código para esto. Hacer una prueba y dibujar el histograma para contrastar."
   ]
  },
  {
   "cell_type": "code",
<<<<<<< refs/remotes/odjaramilloz/main
   "execution_count": 180,
=======
   "execution_count": 42,
>>>>>>> Actualización archivos clase 1
   "metadata": {},
   "outputs": [],
   "source": [
    "#### Resolver acá\n",
    "# Media mu y varianza sigma\n",
    "mu = 4\n",
    "sigma = 0.4\n",
    "\n",
    "#Parámetros del generador\n",
    "m = 2**31-1\n",
    "a = 1103515245\n",
    "b = 12345\n",
    "n = int(1e4)\n",
    "x0 = time.time()\n",
    "\n",
    "# Función con media mu y varianza sigma\n",
    "x = sigma*box_muller(x0,a,b,m,n) + mu"
   ]
  },
  {
   "cell_type": "code",
<<<<<<< refs/remotes/odjaramilloz/main
   "execution_count": 181,
=======
   "execution_count": 43,
>>>>>>> Actualización archivos clase 1
   "metadata": {},
   "outputs": [
    {
     "data": {
<<<<<<< refs/remotes/odjaramilloz/main
      "image/png": "iVBORw0KGgoAAAANSUhEUgAAAXcAAAD7CAYAAACRxdTpAAAAOXRFWHRTb2Z0d2FyZQBNYXRwbG90bGliIHZlcnNpb24zLjUuMSwgaHR0cHM6Ly9tYXRwbG90bGliLm9yZy/YYfK9AAAACXBIWXMAAAsTAAALEwEAmpwYAAATeUlEQVR4nO3dcaxfZ33f8fcHEwKEViSL4xrbqTPJ7eYgEdiVSxepooQ2boNw/lgqV6KzKkveJm+FqVKx+8emTrLkSRMqm5ZOFnRzVcC1gCwWpYDnNtqQIMYJaakdonjYTe7s2bdpKTCQV7vf/XFP1h/Xv3t/x/fe3/XPz32/pKtzfs95zrnPkyf63MfPPefcVBWSpLa85mY3QJK0/Ax3SWqQ4S5JDTLcJalBhrskNchwl6QG9Qr3JP8yyekkf5rkk0len+SuJMeTvNht7xyovz/J2SQvJHl4fM2XJA2TUfe5J9kAfAnYWlXfT3IU+BywFfiLqjqYZB9wZ1V9KMlW4JPANuAtwH8Dfqyqro2zI5Kkv/XaG6j3hiR/DbwRuADsB97VHT8MPAV8CNgBHKmqK8C5JGeZDfovz3fxu+++uzZv3ryI5kvS6vXMM8/8eVWtHXZsZLhX1f9K8u+Al4DvA1+sqi8mWVdVF7s6F5Pc052yAfjKwCWmu7J5bd68mVOnTvXoiiTpVUn+bL5jI9fcu7X0HcB9zC6z3JHk/QudMqTsurWfJHuSnEpyamZmZlQzJEk3oM8vVN8DnKuqmar6a+AzwD8ELiVZD9BtL3f1p4FNA+dvZHYZ5wdU1aGqmqqqqbVrh/6rQpK0SH3C/SXgnUnemCTAQ8DzwDFgV1dnF/Bkt38M2Jnk9iT3AVuAk8vbbEnSQvqsuT+d5FPAs8BV4GvAIeBNwNEku5n9AfBYV/90d0fNma7+Xu+UkaSVNfJWyJUwNTVV/kJVkm5MkmeqamrYMZ9QlaQGGe6S1CDDXZIaZLhLUoP6vn5A0iJs3vf7Cx4/f/CRFWqJVhtn7pLUIMNdkhpkuEtSg1xzl0ZYaN3cNXNNKmfuktQgw12SGmS4S1KDXHOXlmDUfezSzeLMXZIaZLhLUoNclpFuIm+z1Lg4c5ekBhnuktSgkeGe5MeTPDfw9e0kH0xyV5LjSV7stncOnLM/ydkkLyR5eLxdkCTNNTLcq+qFqnqgqh4A/gHwPeAJYB9woqq2ACe6zyTZCuwE7ge2A48nWTOe5kuShrnRZZmHgP9ZVX8G7AAOd+WHgUe7/R3Akaq6UlXngLPAtmVoqySppxsN953AJ7v9dVV1EaDb3tOVbwBeHjhnuiuTJK2Q3rdCJnkd8D5g/6iqQ8pqyPX2AHsA7r333r7NkBbFWw612tzIfe4/BzxbVZe6z5eSrK+qi0nWA5e78mlg08B5G4ELcy9WVYeAQwBTU1PXhb+0UnyFgFp0I8syv8jfLskAHAN2dfu7gCcHyncmuT3JfcAW4ORSGypJ6q/XzD3JG4GfAf7JQPFB4GiS3cBLwGMAVXU6yVHgDHAV2FtV15a11ZKkBfUK96r6HvB35pS9wuzdM8PqHwAOLLl1kqRF8QlVSWqQ4S5JDTLcJalBhrskNchwl6QGGe6S1CDDXZIaZLhLUoMMd0lqkOEuSQ0y3CWpQYa7JDXIcJekBhnuktQgw12SGmS4S1KDDHdJatCN/IFsSSto1B/uPn/wkRVqiW5FvWbuSd6c5FNJvpHk+SQ/meSuJMeTvNht7xyovz/J2SQvJHl4fM2XJA3Td1nmI8Dnq+rvAW8Dngf2ASeqagtwovtMkq3ATuB+YDvweJI1y91wSdL8RoZ7kh8Gfgr4GEBV/d+q+hawAzjcVTsMPNrt7wCOVNWVqjoHnAW2LW+zJUkL6TNz/7vADPCfk3wtyUeT3AGsq6qLAN32nq7+BuDlgfOnuzJJ0grpE+6vBd4B/FZVvR34P3RLMPPIkLK6rlKyJ8mpJKdmZmZ6NVaS1E+fu2Wmgemqerr7/Clmw/1SkvVVdTHJeuDyQP1NA+dvBC7MvWhVHQIOAUxNTV0X/pIWttDdNN5Jo5Ez96r638DLSX68K3oIOAMcA3Z1ZbuAJ7v9Y8DOJLcnuQ/YApxc1lZLkhbU9z73fwF8PMnrgG8Cv8zsD4ajSXYDLwGPAVTV6SRHmf0BcBXYW1XXlr3lkqR59Qr3qnoOmBpy6KF56h8ADiy+WZKkpfD1A5LUIMNdkhpkuEtSgwx3SWqQ4S5JDTLcJalBhrskNchwl6QGGe6S1CDDXZIa5N9QVRNG/b1RabVx5i5JDTLcJalBhrskNchwl6QGGe6S1CDDXZIaZLhLUoN6hXuS80m+nuS5JKe6sruSHE/yYre9c6D+/iRnk7yQ5OFxNV6SNNyNzNx/uqoeqKpX/5bqPuBEVW0BTnSfSbIV2AncD2wHHk+yZhnbLEkaYSlPqO4A3tXtHwaeAj7UlR+pqivAuSRngW3Al5fwvSTdgFFP7J4/+MgKtUQ3S9+ZewFfTPJMkj1d2bqqugjQbe/pyjcALw+cO92VSZJWSN+Z+4NVdSHJPcDxJN9YoG6GlNV1lWZ/SOwBuPfee3s2Q5LUR6+Ze1Vd6LaXgSeYXWa5lGQ9QLe93FWfBjYNnL4RuDDkmoeqaqqqptauXbv4HkiSrjNy5p7kDuA1VfWdbv9ngX8DHAN2AQe77ZPdKceATyT5MPAWYAtwcgxt1yriWx+lG9NnWWYd8ESSV+t/oqo+n+SrwNEku4GXgMcAqup0kqPAGeAqsLeqro2l9ZKkoUaGe1V9E3jbkPJXgIfmOecAcGDJrZMkLYpPqEpSgwx3SWqQ4S5JDTLcJalBhrskNchwl6QGGe6S1CDDXZIaZLhLUoMMd0lqkOEuSQ0y3CWpQYa7JDXIcJekBhnuktQgw12SGmS4S1KDDHdJalDvcE+yJsnXkny2+3xXkuNJXuy2dw7U3Z/kbJIXkjw8joZLkuZ3IzP3DwDPD3zeB5yoqi3Aie4zSbYCO4H7ge3A40nWLE9zJUl99Ar3JBuBR4CPDhTvAA53+4eBRwfKj1TVlao6B5wFti1LayVJvby2Z73fBH4N+KGBsnVVdRGgqi4muacr3wB8ZaDedFcmaUJs3vf7Cx4/f/CRFWqJxmXkzD3Je4HLVfVMz2tmSFkNue6eJKeSnJqZmel5aUlSH32WZR4E3pfkPHAEeHeS3wUuJVkP0G0vd/WngU0D528ELsy9aFUdqqqpqppau3btErogSZprZLhX1f6q2lhVm5n9RekfVtX7gWPArq7aLuDJbv8YsDPJ7UnuA7YAJ5e95ZKkefVdcx/mIHA0yW7gJeAxgKo6neQocAa4CuytqmtLbqkkqbcbCveqegp4qtt/BXhonnoHgANLbJskaZF8QlWSGmS4S1KDDHdJatBSfqEqLatRD9ZI6s+ZuyQ1yHCXpAYZ7pLUIMNdkhpkuEtSgwx3SWqQ4S5JDTLcJalBhrskNchwl6QGGe6S1CDfLaMV47tjpJXjzF2SGmS4S1KDRoZ7ktcnOZnkj5OcTvIbXfldSY4nebHb3jlwzv4kZ5O8kOThcXZAknS9PjP3K8C7q+ptwAPA9iTvBPYBJ6pqC3Ci+0ySrcBO4H5gO/B4kjVjaLskaR4jw71mfbf7eFv3VcAO4HBXfhh4tNvfARypqitVdQ44C2xbzkZLkhbWa809yZokzwGXgeNV9TSwrqouAnTbe7rqG4CXB06f7sokSSukV7hX1bWqegDYCGxL8tYFqmfYJa6rlOxJcirJqZmZmV6NlST1c0P3uVfVt5I8xexa+qUk66vqYpL1zM7qYXamvmngtI3AhSHXOgQcApiamrou/CXdPAs9k3D+4CMr2BItVp+7ZdYmeXO3/wbgPcA3gGPArq7aLuDJbv8YsDPJ7UnuA7YAJ5e53ZKkBfSZua8HDnd3vLwGOFpVn03yZeBokt3AS8BjAFV1OslR4AxwFdhbVdfG03xJ0jAjw72q/gR4+5DyV4CH5jnnAHBgya2TJC2KT6hKUoMMd0lqkG+F1LLxrY/S5HDmLkkNMtwlqUGGuyQ1yHCXpAYZ7pLUIMNdkhpkuEtSgwx3SWqQ4S5JDTLcJalBhrskNchwl6QGGe6S1CDDXZIaZLhLUoNGvs89ySbgd4AfAf4GOFRVH0lyF/B7wGbgPPALVfWX3Tn7gd3ANeBXquoLY2m9pBU36r395w8+skIt0UL6zNyvAr9aVX8feCewN8lWYB9woqq2ACe6z3THdgL3A9uBx7s/ri1JWiEjw72qLlbVs93+d4DngQ3ADuBwV+0w8Gi3vwM4UlVXquoccBbYtsztliQt4IbW3JNsBt4OPA2sq6qLMPsDALinq7YBeHngtOmuTJK0QnqHe5I3AZ8GPlhV316o6pCyGnK9PUlOJTk1MzPTtxmSpB56hXuS25gN9o9X1We64ktJ1nfH1wOXu/JpYNPA6RuBC3OvWVWHqmqqqqbWrl272PZLkoYYGe5JAnwMeL6qPjxw6Biwq9vfBTw5UL4zye1J7gO2ACeXr8mSpFFG3goJPAj8EvD1JM91Zb8OHASOJtkNvAQ8BlBVp5McBc4we6fN3qq6ttwNlyTNb2S4V9WXGL6ODvDQPOccAA4soV2SpCXwCVVJalCfZRlJ6m2hJ1h9enXlOHOXpAYZ7pLUIMNdkhpkuEtSgwx3SWqQ4S5JDTLcJalBhrskNciHmHRDRv2JNUmTwZm7JDXIcJekBhnuktQgw12SGmS4S1KDvFtG0ooZdbeVrwRePs7cJalBI2fuSX4beC9wuare2pXdBfwesBk4D/xCVf1ld2w/sBu4BvxKVX1hLC3XWHgfu9SGPjP3/wJsn1O2DzhRVVuAE91nkmwFdgL3d+c8nmTNsrVWktTLyHCvqv8O/MWc4h3A4W7/MPDoQPmRqrpSVeeAs8C25WmqJKmvxa65r6uqiwDd9p6ufAPw8kC96a5MkrSClvsXqhlSVkMrJnuSnEpyamZmZpmbIUmr22LD/VKS9QDd9nJXPg1sGqi3Ebgw7AJVdaiqpqpqau3atYtshiRpmMXe534M2AUc7LZPDpR/IsmHgbcAW4CTS22klpd3xEjt63Mr5CeBdwF3J5kG/jWzoX40yW7gJeAxgKo6neQocAa4CuytqmtjarskaR4jw72qfnGeQw/NU/8AcGApjZIkLY1PqEpSgwx3SWqQ4S5JDfKtkJImhm+NXD7O3CWpQYa7JDXIcJekBrnmLumWsdCavOvxP8hwb5CvF5DksowkNchwl6QGGe6S1CDX3CU1wQegfpDhfgvyF6aSRnFZRpIa5Mx9Qjk7l7QUztwlqUHO3CWtCqvt6daxhXuS7cBHgDXAR6vq4Li+lyQtRYt32owl3JOsAf4j8DPANPDVJMeq6sw4vt+kct1c0s0yrpn7NuBsVX0TIMkRYAewqsJdUhtuxZn9uMJ9A/DywOdp4CfG9L2WZLWtw0lafkv5V/q4cmZc4Z4hZfUDFZI9wJ7u43eTvDCmtoxyN/Dnww7k365wSxZv3j7cQuzDZLAPK2yenOnbhx+d78C4wn0a2DTweSNwYbBCVR0CDo3p+/eW5FRVTd3sdiyFfZgM9mEy2IdZ47rP/avAliT3JXkdsBM4NqbvJUmaYywz96q6muSfA19g9lbI366q0+P4XpKk643tPveq+hzwuXFdfxnd9KWhZWAfJoN9mAz2AUhVja4lSbql+G4ZSWrQqgj3JJuS/FGS55OcTvKBIXXeleSvkjzXff2rm9HW+SR5fZKTSf6468NvDKmTJP8+ydkkf5LkHTejrfPp2YeJHodXJVmT5GtJPjvk2ESPw6tG9GHixyHJ+SRf79p3asjxiR+HHn1Y9DislheHXQV+taqeTfJDwDNJjg95HcL/qKr33oT29XEFeHdVfTfJbcCXkvxBVX1loM7PAVu6r58AfovJenisTx9gssfhVR8Angd+eMixSR+HVy3UB7g1xuGnq2q++8FvlXFYqA+wyHFYFTP3qrpYVc92+99h9n/oDTe3VTemZn23+3hb9zX3FyY7gN/p6n4FeHOS9SvZzoX07MPES7IReAT46DxVJnocoFcfWjDx4zBOqyLcByXZDLwdeHrI4Z/slgz+IMn9K9uy0bp/Rj8HXAaOV9XcPgx77cNE/RDr0QeY8HEAfhP4NeBv5jk+8ePA6D7A5I9DAV9M8kz3xPtct8I4jOoDLHIcVlW4J3kT8Gngg1X17TmHnwV+tKreBvwH4L+ucPNGqqprVfUAs0/8bkvy1jlVRr724Wbr0YeJHock7wUuV9UzC1UbUjYx49CzDxM9Dp0Hq+odzC6/7E3yU3OOT/Q4dEb1YdHjsGrCvVvj/TTw8ar6zNzjVfXtV5cMunv0b0ty9wo3s5eq+hbwFLB9zqGRr32YFPP14RYYhweB9yU5DxwB3p3kd+fUmfRxGNmHW2AcqKoL3fYy8ASzb6MdNOnjMLIPSxmHVRHuSQJ8DHi+qj48T50f6eqRZBuz/21eWblWLizJ2iRv7vbfALwH+MacaseAf9zdJfBO4K+q6uLKtnR+ffow6eNQVfuramNVbWb2tRp/WFXvn1NtosehTx8mfRyS3NHdHEGSO4CfBf50TrWJHoc+fVjKOKyWu2UeBH4J+Hq33gvw68C9AFX1n4B/BPyzJFeB7wM7a7Ke8FoPHM7sH0J5DXC0qj6b5J/C/+/D54CfB84C3wN++WY1dh59+jDp4zDULTYOQ91i47AOeKLLvdcCn6iqz99i49CnD4seB59QlaQGrYplGUlabQx3SWqQ4S5JDTLcJalBhrskNchwl6QGGe6S1CDDXZIa9P8Ahq9qBz3ZBIgAAAAASUVORK5CYII=\n",
=======
      "image/png": "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\n",
>>>>>>> Actualización archivos clase 1
      "text/plain": [
       "<Figure size 432x288 with 1 Axes>"
      ]
     },
     "metadata": {
      "needs_background": "light"
     },
     "output_type": "display_data"
    }
   ],
   "source": [
    "plt.hist(x,bins=40,density=False)\n",
    "plt.show()"
   ]
  },
  {
   "cell_type": "markdown",
   "metadata": {},
   "source": [
    "Finalmente, mostrar que funciones de este tipo ya están en `numpy`. Ya sabemos como se obtienen."
   ]
  },
  {
   "cell_type": "code",
<<<<<<< refs/remotes/odjaramilloz/main
   "execution_count": 182,
=======
   "execution_count": 44,
>>>>>>> Actualización archivos clase 1
   "metadata": {
    "scrolled": true
   },
   "outputs": [],
   "source": [
    "np.random?"
   ]
  },
  {
   "cell_type": "markdown",
   "metadata": {},
   "source": [
    "<script>\n",
    "  $(document).ready(function(){\n",
    "    $('div.prompt').hide();\n",
    "    $('div.back-to-top').hide();\n",
    "    $('nav#menubar').hide();\n",
    "    $('.breadcrumb').hide();\n",
    "    $('.hidden-print').hide();\n",
    "  });\n",
    "</script>\n",
    "\n",
    "<footer id=\"attribution\" style=\"float:right; color:#808080; background:#fff;\">\n",
    "Created with Jupyter by Cristian Camilo Zapata Zuluaga.\n",
    "</footer>"
   ]
  }
 ],
 "metadata": {
  "kernelspec": {
   "display_name": "Python 3 (ipykernel)",
   "language": "python",
   "name": "python3"
  },
  "language_info": {
   "codemirror_mode": {
    "name": "ipython",
    "version": 3
   },
   "file_extension": ".py",
   "mimetype": "text/x-python",
   "name": "python",
   "nbconvert_exporter": "python",
   "pygments_lexer": "ipython3",
   "version": "3.9.12"
  }
 },
 "nbformat": 4,
 "nbformat_minor": 2
}
